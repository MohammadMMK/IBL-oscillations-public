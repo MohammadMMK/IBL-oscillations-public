{
 "cells": [
  {
   "cell_type": "code",
   "execution_count": null,
   "metadata": {
    "vscode": {
     "languageId": "plaintext"
    }
   },
   "outputs": [],
   "source": [
    "\n",
    "\n",
    "\n",
    "\n",
    "\n",
    "# condition3_trial = np.where(((meta['contrastRight'] == 0) | (meta['contrastLeft'] == 0 )))[0]\n",
    "# epochs_3 = epochs_mne_filter[condition3_trial]\n",
    "# averageTFR_3 = mne.time_frequency.tfr_multitaper(epochs_3, freqs=freqs, n_cycles=n_cycles, time_bandwidth=time_bandwidth, return_itc=False, average=True, n_jobs=4)\n",
    "# log3 = np.log(averageTFR_3.data)\n",
    "\n",
    "# right_nothing = log1 - log3\n",
    "# left_nothing = log2 - log3"
   ]
  }
 ],
 "metadata": {
  "language_info": {
   "name": "python"
  }
 },
 "nbformat": 4,
 "nbformat_minor": 2
}
