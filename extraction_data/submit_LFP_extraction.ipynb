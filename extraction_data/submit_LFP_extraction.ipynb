{
 "cells": [
  {
   "cell_type": "markdown",
   "metadata": {},
   "source": [
    "# find the sessions that include the region of interest\n",
    "Note that the function list any session that includes **any** of the regions. The funciton to list the sessions that include **all** of the regions will be added in the future."
   ]
  },
  {
   "cell_type": "code",
   "execution_count": 1,
   "metadata": {},
   "outputs": [
    {
     "name": "stdout",
     "output_type": "stream",
     "text": [
      "Connected to https://openalyx.internationalbrainlab.org as user \"intbrainlab\"\n",
      "Total number of possible probe insertions: 73\n",
      "PID-EID pairs saved to data/pid_eids_V1.json\n",
      "the path to the data is /workspaces/onedrive1/文档/ibl_data\n",
      "already done 10\n"
     ]
    }
   ],
   "source": [
    "from functions import  get_epoch_StimOn, get_pid_eid_pairs\n",
    "from functions import monitor_job_status\n",
    "import submitit\n",
    "import pandas as pd \n",
    "import numpy as np\n",
    "import json \n",
    "from pathlib import Path\n",
    "import os\n",
    "import sys\n",
    "from config import  LFP_dir\n",
    "\n",
    "\n",
    "# create the pid_eid_pairs\n",
    "pid_eid_pairs = get_pid_eid_pairs( only_passive= False, regions= ['VISp'])\n",
    "# the path to the data (based on config file) and the number of downloaded files\n",
    "already_done = [p[0] for p in pid_eid_pairs if p[0] in [f.split('_')[0] for f in os.listdir(LFP_dir)]]\n",
    "print(f'already done {len(already_done)}')\n",
    "\n",
    "\n"
   ]
  },
  {
   "cell_type": "markdown",
   "metadata": {},
   "source": [
    "# parallel submition using submitit "
   ]
  },
  {
   "cell_type": "code",
   "execution_count": null,
   "metadata": {},
   "outputs": [],
   "source": [
    "import submitit\n",
    "import os\n",
    "import json\n",
    "\n",
    "LFP_filter_params= { 'tmin': -1, 'tmax': 1.5, 'contrasts': 'all', 'stim_side': \"both\",\n",
    "                           'prob_left': [0.8,0.2], 'remove_first_trials_of_block': False,\n",
    "                             'overwrite': False, 'save': True}\n",
    "def submit_extract(pid_eid_pair):\n",
    "    pid, eid = pid_eid_pair\n",
    "    get_epoch_StimOn(pid, **LFP_filter_params)\n",
    "\n",
    "\n",
    "already_done_pids = [f.split('_')[0] for f in os.listdir(LFP_dir) if f.endswith('.fif') ]\n",
    "pid_eid_pair = [p for p in pid_eid_pairs if p[0] not in already_done_pids]\n",
    "# Create an executor\n",
    "executor = submitit.AutoExecutor(folder='logs')\n",
    "executor.update_parameters(slurm_array_parallelism= 50 , mem_gb=10, timeout_min= 120, slurm_partition= 'CPU',  cpus_per_task= 1)\n",
    "# Submit all jobs using map_array                                                                                              \n",
    "all_jobs = executor.map_array(submit_extract, pid_eid_pair)\n",
    "monitor_job_status(all_jobs)"
   ]
  }
 ],
 "metadata": {
  "kernelspec": {
   "display_name": "iblenvlocal",
   "language": "python",
   "name": "python3"
  },
  "language_info": {
   "codemirror_mode": {
    "name": "ipython",
    "version": 3
   },
   "file_extension": ".py",
   "mimetype": "text/x-python",
   "name": "python",
   "nbconvert_exporter": "python",
   "pygments_lexer": "ipython3",
   "version": "3.10.16"
  }
 },
 "nbformat": 4,
 "nbformat_minor": 2
}
