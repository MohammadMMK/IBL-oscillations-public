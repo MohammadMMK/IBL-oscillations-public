{
 "cells": [
  {
   "cell_type": "code",
   "execution_count": 1,
   "metadata": {},
   "outputs": [
    {
     "name": "stdout",
     "output_type": "stream",
     "text": [
      "Connected to https://openalyx.internationalbrainlab.org as user \"intbrainlab\"\n",
      "Total number of possible probe insertions: 73\n",
      "Number of sessions without passive data: 23\n",
      "Number of sessions with passive data: 50\n",
      "Number of pids without decoding result: 6\n",
      " number of total channnels 1228\n",
      "Right selective:  18\n",
      "Left selective:  21\n",
      "  Region  Right Selective  Left Selective\n",
      "0   VISp               18              21\n"
     ]
    }
   ],
   "source": [
    "# import functions\n",
    "import sys\n",
    "import os\n",
    "from pathlib import Path\n",
    "import pandas as pd\n",
    "import re\n",
    "import numpy as np  \n",
    "import submitit\n",
    "import os \n",
    "import mne\n",
    "from extraction_data import get_pid_eid_pairs\n",
    "from config import paths\n",
    "from Time_frequency_selectives import get_TFR, load_decoding_results, selective_channels , preprocess_LFP, split_trials\n",
    "\n",
    "\n",
    "# get the pid and eid of the sessions to analyze\n",
    "regionOfInterest = ['VISp'] # regions to include\n",
    "pid_eid_pairs = get_pid_eid_pairs( regions = regionOfInterest,only_passive= True)\n",
    "\n",
    "# get the decoding results\n",
    "decoding_results_dir = os.path.join(str(Path(os.getcwd()).resolve().parent), 'Decoding_spikes', 'results')\n",
    "results = load_decoding_results(pid_eid_pairs, suffix = 'v1_TPassive_TActive' , dir = decoding_results_dir)\n",
    "right_selective, left_selective, right_sensitive, left_sensitive, neutral = selective_channels(results, p_value_threshold = 0.05, accuracy_threshold = 0.57)\n",
    "print('Right selective: ', len(right_selective))\n",
    "print('Left selective: ', len(left_selective))\n",
    "RS_ch = right_selective['acronyms']\n",
    "LS_ch = left_selective['acronyms']\n",
    "\n",
    "# print the number of selective channels per region\n",
    "data = []\n",
    "for region in regionOfInterest:\n",
    "    RS_count = len([ch for ch in RS_ch if re.match(rf'^{region}[12456]', ch)])\n",
    "    LS_count = len([ch for ch in LS_ch if re.match(rf'^{region}[12456]', ch)])\n",
    "    data.append([region, RS_count, LS_count])\n",
    "\n",
    "# Create a DataFrame\n",
    "df = pd.DataFrame(data, columns=['Region', 'Right Selective', 'Left Selective'])\n",
    "print(df)"
   ]
  },
  {
   "cell_type": "code",
   "execution_count": 2,
   "metadata": {},
   "outputs": [
    {
     "name": "stdout",
     "output_type": "stream",
     "text": [
      "PID: b114e7e0-92b3-43bb-9529-53860e52606d, Right Selective: 1, Left Selective: 3\n",
      "PID: d5e5311c-8beb-4f8f-b798-3e9bfa6bcdd8, Right Selective: 0, Left Selective: 2\n",
      "PID: 27109779-1b15-4d74-893f-08216d231307, Right Selective: 0, Left Selective: 1\n",
      "PID: 5544da75-8d34-47cb-9092-1f91e713e79c, Right Selective: 0, Left Selective: 1\n",
      "PID: 799d899d-c398-4e81-abaf-1ef4b02d5475, Right Selective: 1, Left Selective: 0\n",
      "PID: 12c0f3a9-518e-4dac-9651-5d95c2b4730f, Right Selective: 1, Left Selective: 1\n",
      "PID: 27bac116-ea57-4512-ad35-714a62d259cd, Right Selective: 1, Left Selective: 1\n",
      "PID: b83407f8-8220-46f9-9b90-a4c9f150c572, Right Selective: 1, Left Selective: 0\n",
      "PID: 1f555fc6-5067-428b-a284-da6fb0b6b3a0, Right Selective: 4, Left Selective: 0\n",
      "PID: 97207d87-3fcd-4ebb-b0c7-087bdbf8a95c, Right Selective: 0, Left Selective: 1\n",
      "PID: b78b3c42-eee5-47c6-9717-743b78c0b721, Right Selective: 1, Left Selective: 0\n",
      "PID: 4b93a168-0f3b-4124-88fa-a57046ca70e1, Right Selective: 1, Left Selective: 1\n",
      "PID: 578ca001-8cf5-4d30-b58f-1d574eaf808a, Right Selective: 1, Left Selective: 0\n",
      "PID: fb0de39b-c750-4adc-af18-12bf8a22ed41, Right Selective: 1, Left Selective: 0\n",
      "PID: a9c9df46-85f3-46ad-848d-c6b8da4ae67c, Right Selective: 0, Left Selective: 2\n",
      "PID: a3d13b05-bf4d-427a-a2d5-2fe050d603ec, Right Selective: 0, Left Selective: 3\n",
      "PID: b9b101cf-24d3-4c2a-8464-bc91b9f0c767, Right Selective: 0, Left Selective: 2\n",
      "PID: febb430e-2d50-4f83-87a0-b5ffbb9a4943, Right Selective: 1, Left Selective: 1\n",
      "PID: df07180e-268e-489c-826e-40cb6f63d3a5, Right Selective: 2, Left Selective: 0\n",
      "PID: d213e786-4b1c-477d-a710-766d69fa1ac1, Right Selective: 0, Left Selective: 1\n",
      "PID: b40d8c65-7ee8-4069-8b64-1a3f7907742f, Right Selective: 2, Left Selective: 1\n"
     ]
    }
   ],
   "source": [
    "for pid, eid in pid_eid_pairs:\n",
    "    Nch_index_right = len(right_selective.loc[right_selective['pid'] == pid, 'ch_indexs'].tolist())\n",
    "    Nch_index_left = len(left_selective.loc[left_selective['pid'] == pid, 'ch_indexs'].tolist())\n",
    "    if Nch_index_right > 0 or Nch_index_left > 0:\n",
    "        print(f'PID: {pid}, Right Selective: {Nch_index_right}, Left Selective: {Nch_index_left}')\n"
   ]
  }
 ],
 "metadata": {
  "kernelspec": {
   "display_name": "iblenv",
   "language": "python",
   "name": "python3"
  },
  "language_info": {
   "codemirror_mode": {
    "name": "ipython",
    "version": 3
   },
   "file_extension": ".py",
   "mimetype": "text/x-python",
   "name": "python",
   "nbconvert_exporter": "python",
   "pygments_lexer": "ipython3",
   "version": "3.10.16"
  }
 },
 "nbformat": 4,
 "nbformat_minor": 2
}
