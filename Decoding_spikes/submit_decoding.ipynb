{
 "cells": [
  {
   "cell_type": "markdown",
   "metadata": {},
   "source": [
    "## Import funcitons and create a list of sessions that include the region of interest\n",
    "to be able to run the notebook make sure of the following: you have installed the IBL enviroment alongside other dependencies as described in the README file of the repository."
   ]
  },
  {
   "cell_type": "code",
   "execution_count": 3,
   "metadata": {},
   "outputs": [
    {
     "name": "stdout",
     "output_type": "stream",
     "text": [
      "Connected to https://openalyx.internationalbrainlab.org as user \"intbrainlab\"\n",
      "Total number of possible probe insertions: 73\n",
      "Number of sessions without passive data: 23\n",
      "Number of sessions with passive data: 50\n"
     ]
    }
   ],
   "source": [
    "import sys \n",
    "import os\n",
    "from pathlib import Path\n",
    "# Add the directory containing get_data.py to the Python path\n",
    "sys.path.append(str(Path(os.getcwd()).resolve().parent)) # add the root of the project to the python path\n",
    "from extraction_data import get_pid_eid_pairs\n",
    "pid_eid_pairs = get_pid_eid_pairs(only_passive=True, regions = ['VISp'])"
   ]
  },
  {
   "cell_type": "markdown",
   "metadata": {},
   "source": [
    "# Input Parameters\n",
    "\n",
    "## Preprocessing Parameters\n",
    "-   **`min_contrast`**: Minimum contrast value used to filter the trials.\n",
    "-   **`t_bin`**: Size of the time bin (in seconds) used for calculating firing rates.\n",
    "-   **`pre_stim`** and **`post_stim`**: Time (in seconds) before and after stimulus onset to consider when calculating firing rates. ATTENTION: pre_stim window is used for z-score baseline correction of the firing rates.\n",
    "-   **`min_time`**: Minimum time (in seconds) after stimulus onset to include in the final results which goes in decoding procedures. \n",
    "-   **`filter_regions`**: List of brain regions to include in the analysis.\n",
    "-   **`only_good_clusters`**: Boolean flag indicating whether to filter clusters to include only those classified as \"good\".\n",
    "-   **`contrast_filter`** and **`probabilityLeft_filter`**: Lists specifying valid contrast and probability left values for trial filtering. the probabilityLeft_filter is applied only for active segment.\n",
    "\n",
    "## Decoding Parameters\n",
    "-   **`test_strategy`**: Decoding procedure to use ('passive', 'active', 'both').\n",
    "    - **passive**: Train on 80% of passive and test decoding on the 20% of passive untrained data (using k-fold).\n",
    "    - **active**: Train on passive data and test on active data.\n",
    "    - **both**: Train on 80% of passive data and test on 20% of passive and all active data.\n",
    "-   **`feature_selection`**: Feature selection method to use ('pca', 'average_clusters'). (average_clusters gives better results).\n",
    "-   **`n_components`**: Number of components to retain for PCA.\n",
    "-   **`n_permutations`**: Number of permutations used for null distribution generation.\n",
    "-   **`n_folds`**: Number of folds for cross-validation.\n",
    "-   **`n_time_bins`**: Number of time bins to include in the classification. If None, use all time bins.\n"
   ]
  },
  {
   "cell_type": "code",
   "execution_count": 4,
   "metadata": {},
   "outputs": [],
   "source": [
    "from functions import Apply_decoding, monitor_job_status\n",
    "import submitit\n",
    "import pandas as pd \n",
    "import numpy as np\n",
    "\n",
    "\n",
    "PARAMS_preprocess = {'min_contrast': 1,  \n",
    "          't_bin': 0.02, 'pre_stim': 0.5, 'post_stim': 1.0, 'min_time': 0,\n",
    "            'filter_regions':  ['VISp'], 'only_good_clusters': False,\n",
    "              'probabilityLeft_filter': [0.5], \n",
    "                'contrast_stim_filter': [0, 1]}\n",
    "PARAMS_decoding = { 'test_strategy': 'active', 'n_components': 5, 'feature_selection': 'average_clusters', 'n_time_bins': -1, 'n_permutations': 1000, 'n_folds': 5}\n",
    "\n",
    "PARAMS_submitit = {'maxjob': 60  ,'memory': 15 , 'time': 300, 'partition': 'CPU', 'cpus_per_task': 1}\n",
    "\n",
    "save_paths = [f\"results/{pid}_V1_TPassive_TActive.pkl\" for pid, _ in pid_eid_pairs]\n",
    "\n"
   ]
  },
  {
   "cell_type": "markdown",
   "metadata": {},
   "source": [
    "#  decoding for right/left selectivity using submitit (CRLN server)"
   ]
  },
  {
   "cell_type": "code",
   "execution_count": null,
   "metadata": {},
   "outputs": [],
   "source": [
    "import submitit\n",
    "def submit_decode(pid_eid_pair, save_path):\n",
    "    pid, eid = pid_eid_pair\n",
    "    Apply_decoding(eid, pid, PARAMS_preprocess, PARAMS_decoding, save=True, save_path=save_path)\n",
    "\n",
    "# Create an executor\n",
    "executor = submitit.AutoExecutor(folder='submitit_debug')\n",
    "executor.update_parameters(slurm_array_parallelism=PARAMS_submitit['maxjob'],mem_gb=PARAMS_submitit['memory'],timeout_min= PARAMS_submitit['time'],slurm_partition= PARAMS_submitit['partition'],cpus_per_task=PARAMS_submitit['cpus_per_task'])\n",
    "# Submit all jobs using map_array\n",
    "all_jobs = executor.map_array(submit_decode, pid_eid_pairs, save_paths)\n",
    "monitor_job_status(all_jobs)\n"
   ]
  },
  {
   "cell_type": "markdown",
   "metadata": {},
   "source": [
    "# serial decoding (for local computer)"
   ]
  },
  {
   "cell_type": "code",
   "execution_count": null,
   "metadata": {},
   "outputs": [],
   "source": [
    "i=0\n",
    "for pid, eid in pid_eid_pairs:\n",
    "    i+=1\n",
    "    print(f\"Decoding {pid} {i}/{len(pid_eid_pairs)}\")\n",
    "    save_path = f\"results/{pid}_v1a_TPassive_TActive.pkl\"\n",
    "    Apply_decoding(eid, pid, PARAMS_preprocess, PARAMS_decoding, save=True, save_path=save_path)\n",
    "    \n",
    "\n",
    "    "
   ]
  }
 ],
 "metadata": {
  "kernelspec": {
   "display_name": "gitenv",
   "language": "python",
   "name": "python3"
  },
  "language_info": {
   "codemirror_mode": {
    "name": "ipython",
    "version": 3
   },
   "file_extension": ".py",
   "mimetype": "text/x-python",
   "name": "python",
   "nbconvert_exporter": "python",
   "pygments_lexer": "ipython3",
   "version": "3.10.16"
  }
 },
 "nbformat": 4,
 "nbformat_minor": 2
}
